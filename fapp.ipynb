{
 "cells": [
  {
   "cell_type": "code",
   "execution_count": 1,
   "metadata": {},
   "outputs": [],
   "source": [
    "import datetime as dt\n",
    "import numpy as np\n",
    "import pandas as pd\n",
    "import sqlalchemy\n",
    "from sqlalchemy.ext.automap import automap_base\n",
    "from sqlalchemy.orm import Session\n",
    "from sqlalchemy import create_engine, func\n",
    "from flask import Flask, jsonify"
   ]
  },
  {
   "cell_type": "code",
   "execution_count": 2,
   "metadata": {},
   "outputs": [],
   "source": [
    "engine = create_engine(\"sqlite:///hawaii.sqlite\")\n",
    "Base = automap_base()\n",
    "Base.prepare(engine, reflect=True)"
   ]
  },
  {
   "cell_type": "code",
   "execution_count": 3,
   "metadata": {},
   "outputs": [
    {
     "data": {
      "text/plain": [
       "['measurement', 'station']"
      ]
     },
     "execution_count": 3,
     "metadata": {},
     "output_type": "execute_result"
    }
   ],
   "source": [
    "Base.classes.keys()"
   ]
  },
  {
   "cell_type": "code",
   "execution_count": 4,
   "metadata": {},
   "outputs": [],
   "source": [
    "measurement = Base.classes.measurement\n",
    "station = Base.classes.station\n",
    "session= Session(engine)"
   ]
  },
  {
   "cell_type": "code",
   "execution_count": 5,
   "metadata": {},
   "outputs": [],
   "source": [
    "app = Flask(__name__)"
   ]
  },
  {
   "cell_type": "code",
   "execution_count": 6,
   "metadata": {},
   "outputs": [],
   "source": [
    "@app.route(\"/\")\n",
    "def welcome():\n",
    "    print(\"Welcome to  'Home' page...\")\n",
    "    return \"<h1>Welcome to the Climate App!</h1> </br>\" + \\\n",
    "            \"/api/v1.0/precipitation returns temperature observations from the past year</br>\" + \\\n",
    "            \"/api/v1.0/stations returns a json list of stations</br>\" + \\\n",
    "            \"/api/v1.0/tobs returns a json list of temperature observations from the last year</br>\" + \\\n",
    "            \"/api/v1.0/&ltstart&gt and /api/v1.0/&ltstart&gt/&ltend&gt returns a json list of min, avg, and max temp - given start or start-end range\""
   ]
  },
  {
   "cell_type": "code",
   "execution_count": 7,
   "metadata": {},
   "outputs": [],
   "source": [
    "@app.route(\"/api/v1.0/precipitation\")\n",
    "def precipitation():\n",
    "    prev_year = dt.date(2017,8,23)-dt.timedelta(365)\n",
    "\n",
    "    precipitation = session.query(measurement.date, measurement.prcp).filter(measurement.date >= prev_year).all()\n",
    "\n",
    "    precip = {date: prcp for date, prcp in precipitation}\n",
    "    return jsonify(precip)"
   ]
  },
  {
   "cell_type": "code",
   "execution_count": 8,
   "metadata": {},
   "outputs": [],
   "source": [
    "@app.route(\"/api/v1.0/stations\")\n",
    "def stations():\n",
    "    print(\"Server received request for 'Stations' page...\")\n",
    "    stations = session.query(station.station).all()\n",
    "    return jsonify(stations)         "
   ]
  },
  {
   "cell_type": "code",
   "execution_count": 9,
   "metadata": {},
   "outputs": [],
   "source": [
    "@app.route(\"/api/v1.0/tobs\")\n",
    "def tobs():\n",
    "    print(\"Server received request for 'Temperature Observations (tobs)' page...\")\n",
    "    results1 = session.query(measurement.date, measurement.tobs).filter(measurement.date>=\"2016-08-23\").all()\n",
    "    return jsonify(results1)  "
   ]
  },
  {
   "cell_type": "code",
   "execution_count": 10,
   "metadata": {},
   "outputs": [],
   "source": [
    "@app.route(\"/api/v1.0/<start>\")\n",
    "def temp(start):\n",
    "    print(\"Server received request for dynamic temperature page with only start...\")\n",
    "    try: \n",
    "        start_date = dt.datetime.strptime(start,\"%Y-%m-%d\")\n",
    "        results1 = session.query(measurement.date, measurement.tobs).filter(measurement.date>=start_date).all() \n",
    "        \n",
    "        df_weather = pd.DataFrame(data=results1,columns=[\"date\",\"temp\"])\n",
    "        min_temp = df_weather[\"temp\"].min()\n",
    "        max_temp = df_weather[\"temp\"].max()\n",
    "        mean_temp = df_weather[\"temp\"].mean()\n",
    "        \n",
    "        print(\"min_temp, mean_temp, and max_temp are returned\")\n",
    "        return jsonify({'TMIN': min_temp}, {'TAVG': mean_temp}, {'TMAX': max_temp}) \n",
    "    except:\n",
    "        return \"<p>input date is not in correct format. Dates should be formated as %Y-%m-%d</p>\""
   ]
  },
  {
   "cell_type": "code",
   "execution_count": 11,
   "metadata": {},
   "outputs": [],
   "source": [
    "@app.route(\"/api/v1.0/<start>/<end>\")\n",
    "def temp_2(start,end):\n",
    "    print(\"Server received request for dynamic temperature page with start and end...\")\n",
    "    try: \n",
    "        end_date = dt.datetime.strptime(end,\"%Y-%m-%d\")\n",
    "        results1 = session.query(measurement.date, measurement.tobs).filter(measurement.date>=end_date).all()\n",
    "        \n",
    "        df_weather = pd.DataFrame(data=results1,columns=[\"date\",\"temp\"])\n",
    "        min_temp = df_weather[\"temp\"].min()\n",
    "        max_temp = df_weather[\"temp\"].max()\n",
    "        mean_temp = df_weather[\"temp\"].mean()\n",
    "        \n",
    "        print(\"min_temp, mean_temp, and max_temp are returned\")\n",
    "        return jsonify({'TMIN':min_temp}, {'TAVG':mean_temp}, {'TMAX':max_temp})\n",
    "    except:\n",
    "        print(\"input dates are not in correct format. Dates should be formated as %Y-%m-%d\")\n",
    "        "
   ]
  },
  {
   "cell_type": "code",
   "execution_count": null,
   "metadata": {},
   "outputs": [
    {
     "name": "stdout",
     "output_type": "stream",
     "text": [
      " * Serving Flask app \"__main__\" (lazy loading)\n",
      " * Environment: production\n",
      "   WARNING: This is a development server. Do not use it in a production deployment.\n",
      "   Use a production WSGI server instead.\n",
      " * Debug mode: off\n"
     ]
    },
    {
     "name": "stderr",
     "output_type": "stream",
     "text": [
      " * Running on http://127.0.0.1:5000/ (Press CTRL+C to quit)\n"
     ]
    }
   ],
   "source": [
    "if __name__ == \"__main__\":\n",
    "    app.run()         "
   ]
  },
  {
   "cell_type": "code",
   "execution_count": null,
   "metadata": {},
   "outputs": [],
   "source": []
  }
 ],
 "metadata": {
  "kernelspec": {
   "display_name": "Python 3",
   "language": "python",
   "name": "python3"
  },
  "language_info": {
   "codemirror_mode": {
    "name": "ipython",
    "version": 3
   },
   "file_extension": ".py",
   "mimetype": "text/x-python",
   "name": "python",
   "nbconvert_exporter": "python",
   "pygments_lexer": "ipython3",
   "version": "3.7.6"
  }
 },
 "nbformat": 4,
 "nbformat_minor": 4
}
